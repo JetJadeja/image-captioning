{
 "cells": [
  {
   "attachments": {},
   "cell_type": "markdown",
   "metadata": {},
   "source": [
    "## Dataset Installation Helper\n",
    "Ensure that there is a `kaggle.kson` file in this directory before running the code."
   ]
  },
  {
   "cell_type": "code",
   "execution_count": 1,
   "metadata": {},
   "outputs": [
    {
     "name": "stdout",
     "output_type": "stream",
     "text": [
      "Requirement already satisfied: kaggle in /Users/jet/miniconda3/envs/tensorflow/lib/python3.10/site-packages (1.5.13)\n",
      "Requirement already satisfied: python-dateutil in /Users/jet/miniconda3/envs/tensorflow/lib/python3.10/site-packages (from kaggle) (2.8.2)\n",
      "Requirement already satisfied: python-slugify in /Users/jet/miniconda3/envs/tensorflow/lib/python3.10/site-packages (from kaggle) (8.0.1)\n",
      "Requirement already satisfied: urllib3 in /Users/jet/miniconda3/envs/tensorflow/lib/python3.10/site-packages (from kaggle) (1.26.15)\n",
      "Requirement already satisfied: six>=1.10 in /Users/jet/miniconda3/envs/tensorflow/lib/python3.10/site-packages (from kaggle) (1.15.0)\n",
      "Requirement already satisfied: tqdm in /Users/jet/miniconda3/envs/tensorflow/lib/python3.10/site-packages (from kaggle) (4.65.0)\n",
      "Requirement already satisfied: certifi in /Users/jet/miniconda3/envs/tensorflow/lib/python3.10/site-packages (from kaggle) (2022.12.7)\n",
      "Requirement already satisfied: requests in /Users/jet/miniconda3/envs/tensorflow/lib/python3.10/site-packages (from kaggle) (2.28.2)\n",
      "Requirement already satisfied: text-unidecode>=1.3 in /Users/jet/miniconda3/envs/tensorflow/lib/python3.10/site-packages (from python-slugify->kaggle) (1.3)\n",
      "Requirement already satisfied: idna<4,>=2.5 in /Users/jet/miniconda3/envs/tensorflow/lib/python3.10/site-packages (from requests->kaggle) (3.4)\n",
      "Requirement already satisfied: charset-normalizer<4,>=2 in /Users/jet/miniconda3/envs/tensorflow/lib/python3.10/site-packages (from requests->kaggle) (2.1.1)\n",
      "Note: you may need to restart the kernel to use updated packages.\n"
     ]
    }
   ],
   "source": [
    "%pip install kaggle"
   ]
  },
  {
   "cell_type": "code",
   "execution_count": 2,
   "metadata": {},
   "outputs": [
    {
     "name": "stdout",
     "output_type": "stream",
     "text": [
      "Downloading flickr8k.zip to /Users/jet/Projects/image-captioning\n",
      "100%|█████████████████████████████████████▉| 1.04G/1.04G [00:37<00:00, 34.9MB/s]\n",
      "100%|██████████████████████████████████████| 1.04G/1.04G [00:37<00:00, 29.6MB/s]\n",
      "Downloading glove-global-vectors-for-word-representation.zip to /Users/jet/Projects/image-captioning\n",
      "100%|███████████████████████████████████████▉| 457M/458M [00:22<00:00, 31.8MB/s]\n",
      "100%|████████████████████████████████████████| 458M/458M [00:22<00:00, 21.1MB/s]\n"
     ]
    }
   ],
   "source": [
    "!kaggle datasets download -d adityajn105/flickr8k\n",
    "!kaggle datasets download -d rtatman/glove-global-vectors-for-word-representation"
   ]
  },
  {
   "attachments": {},
   "cell_type": "markdown",
   "metadata": {},
   "source": [
    "Now that we've installed the zip files, it's time to extract them."
   ]
  },
  {
   "cell_type": "code",
   "execution_count": 3,
   "metadata": {},
   "outputs": [],
   "source": [
    "import zipfile\n",
    "\n",
    "# Extract the flickr8k zip file\n",
    "with zipfile.ZipFile(\"./flickr8k.zip\", 'r') as zip_ref:\n",
    "    zip_ref.extractall(\"./data\")\n",
    "\n",
    "# Extract the glove zip file\n",
    "with zipfile.ZipFile(\"./glove-global-vectors-for-word-representation.zip\", 'r') as zip_ref:\n",
    "    zip_ref.extractall(\"./data\")"
   ]
  },
  {
   "attachments": {},
   "cell_type": "markdown",
   "metadata": {},
   "source": [
    "Finally, we need to delete some of the unecessary files."
   ]
  },
  {
   "cell_type": "code",
   "execution_count": 4,
   "metadata": {},
   "outputs": [],
   "source": [
    "import os\n",
    "\n",
    "# Define the function to delete the unecessary files.\n",
    "def delete_filepath(filepath):\n",
    "  if os.path.exists(filepath):\n",
    "    os.remove(filepath)\n",
    "\n",
    "# Delete the zip files.\n",
    "delete_filepath(\"flickr8k.zip\")\n",
    "delete_filepath(\"glove-global-vectors-for-word-representation.zip\")\n",
    "\n",
    "# Delete the unecessary Glove text files.\n",
    "delete_filepath(\"data/glove.6B.50d.txt\")\n",
    "delete_filepath(\"data/glove.6B.100d.txt\")"
   ]
  }
 ],
 "metadata": {
  "kernelspec": {
   "display_name": "Python 3.10 (tensorflow)",
   "language": "python",
   "name": "tensorflow"
  },
  "language_info": {
   "codemirror_mode": {
    "name": "ipython",
    "version": 3
   },
   "file_extension": ".py",
   "mimetype": "text/x-python",
   "name": "python",
   "nbconvert_exporter": "python",
   "pygments_lexer": "ipython3",
   "version": "3.10.9"
  },
  "orig_nbformat": 4
 },
 "nbformat": 4,
 "nbformat_minor": 2
}
